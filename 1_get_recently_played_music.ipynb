{
 "cells": [
  {
   "cell_type": "markdown",
   "metadata": {},
   "source": [
    "# Prep script"
   ]
  },
  {
   "cell_type": "code",
   "execution_count": 30,
   "metadata": {},
   "outputs": [],
   "source": [
    "import time\n",
    "import pylast\n",
    "import hashlib\n",
    "from datetime import date\n",
    "from datetime import datetime\n",
    "import requests\n",
    "import pandas as pd, requests, time, json, os.path\n",
    "import logging as lg, datetime as dt\n",
    "import pandas as pd, numpy as np, matplotlib.pyplot as plt, logging as lg\n",
    "import time, requests, re, json, os.path, datetime as dt\n",
    "from geopy.distance import great_circle\n",
    "import mpl_toolkits\n",
    "import sys\n",
    "import os\n",
    "import spotipy as sp\n",
    "from spotipy.oauth2 import SpotifyClientCredentials"
   ]
  },
  {
   "cell_type": "code",
   "execution_count": 33,
   "metadata": {},
   "outputs": [],
   "source": [
    "%run -i 'functions/all_recently_played_music.py'\n",
    "%run -i 'functions/get_locations.py'\n",
    "%run -i 'functions/geocode_locations.py'"
   ]
  },
  {
   "cell_type": "markdown",
   "metadata": {},
   "source": [
    "<br>"
   ]
  },
  {
   "cell_type": "markdown",
   "metadata": {},
   "source": [
    "# Set-up API call information"
   ]
  },
  {
   "cell_type": "markdown",
   "metadata": {},
   "source": [
    "### Last.FM"
   ]
  },
  {
   "cell_type": "code",
   "execution_count": 4,
   "metadata": {},
   "outputs": [],
   "source": [
    "# Enter your user details\n",
    "user_name = 'xxx'\n",
    "user_password = 'xxx'\n",
    "api_key = 'xxx'\n",
    "api_secret = 'xx'\n",
    "\n",
    "# set-up hash / API call\n",
    "password_hash = pylast.md5(user_password)\n",
    "network = pylast.LastFMNetwork(api_key = api_key, api_secret =  api_secret, username = user_name, password_hash = password_hash)\n",
    "user = pylast.User(user_name, network)"
   ]
  },
  {
   "cell_type": "markdown",
   "metadata": {},
   "source": [
    "### Spotify"
   ]
  },
  {
   "cell_type": "code",
   "execution_count": 5,
   "metadata": {},
   "outputs": [],
   "source": [
    "cid =\"xxx\" \n",
    "secret = \"xxx\"\n",
    "sp = spotipy #spotipy.Spotify()"
   ]
  },
  {
   "cell_type": "markdown",
   "metadata": {},
   "source": [
    "<br>"
   ]
  },
  {
   "cell_type": "markdown",
   "metadata": {},
   "source": [
    "# Get all music played"
   ]
  },
  {
   "cell_type": "code",
   "execution_count": 12,
   "metadata": {},
   "outputs": [],
   "source": [
    "# just gets latest 5 as a check\n",
    "recent_tracks = user.get_recent_tracks(limit = 5, cacheable=True)"
   ]
  },
  {
   "cell_type": "code",
   "execution_count": 13,
   "metadata": {},
   "outputs": [
    {
     "data": {
      "text/plain": [
       "[PlayedTrack(track=pylast.Track('Kara Marni', 'Trippin', pylast.LastFMNetwork('040075c038c9f0e9200581b60723f860', '994d7d88b34019cb9c337fe179ac0f67', 'ofdzyuBopclyl7-KfG3ss4V2AP0-huLO', 'pollystewart', 'cc71bfda7b314104eb54e2c8fb80b79e')), album='Trippin', playback_date='25 Mar 2021, 17:52', timestamp='1616694758'),\n",
       " PlayedTrack(track=pylast.Track('Lauv', 'I Like Me Better', pylast.LastFMNetwork('040075c038c9f0e9200581b60723f860', '994d7d88b34019cb9c337fe179ac0f67', 'ofdzyuBopclyl7-KfG3ss4V2AP0-huLO', 'pollystewart', 'cc71bfda7b314104eb54e2c8fb80b79e')), album='I met you when I was 18. (the playlist)', playback_date='25 Mar 2021, 17:46', timestamp='1616694419'),\n",
       " PlayedTrack(track=pylast.Track('Bebe Rexha', \"Baby, I'm Jealous (feat. Doja Cat)\", pylast.LastFMNetwork('040075c038c9f0e9200581b60723f860', '994d7d88b34019cb9c337fe179ac0f67', 'ofdzyuBopclyl7-KfG3ss4V2AP0-huLO', 'pollystewart', 'cc71bfda7b314104eb54e2c8fb80b79e')), album=\"Baby, I'm Jealous (feat. Doja Cat)\", playback_date='25 Mar 2021, 17:43', timestamp='1616694234'),\n",
       " PlayedTrack(track=pylast.Track('Lauv', 'I Like Me Better', pylast.LastFMNetwork('040075c038c9f0e9200581b60723f860', '994d7d88b34019cb9c337fe179ac0f67', 'ofdzyuBopclyl7-KfG3ss4V2AP0-huLO', 'pollystewart', 'cc71bfda7b314104eb54e2c8fb80b79e')), album='I met you when I was 18. (the playlist)', playback_date='25 Mar 2021, 16:16', timestamp='1616688964'),\n",
       " PlayedTrack(track=pylast.Track('Bebe Rexha', \"Baby, I'm Jealous (feat. Doja Cat)\", pylast.LastFMNetwork('040075c038c9f0e9200581b60723f860', '994d7d88b34019cb9c337fe179ac0f67', 'ofdzyuBopclyl7-KfG3ss4V2AP0-huLO', 'pollystewart', 'cc71bfda7b314104eb54e2c8fb80b79e')), album=\"Baby, I'm Jealous (feat. Doja Cat)\", playback_date='25 Mar 2021, 16:13', timestamp='1616688789')]"
      ]
     },
     "execution_count": 13,
     "metadata": {},
     "output_type": "execute_result"
    }
   ],
   "source": [
    "recent_tracks\n"
   ]
  },
  {
   "cell_type": "code",
   "execution_count": 16,
   "metadata": {},
   "outputs": [
    {
     "data": {
      "text/html": [
       "<div>\n",
       "<style scoped>\n",
       "    .dataframe tbody tr th:only-of-type {\n",
       "        vertical-align: middle;\n",
       "    }\n",
       "\n",
       "    .dataframe tbody tr th {\n",
       "        vertical-align: top;\n",
       "    }\n",
       "\n",
       "    .dataframe thead th {\n",
       "        text-align: right;\n",
       "    }\n",
       "</style>\n",
       "<table border=\"1\" class=\"dataframe\">\n",
       "  <thead>\n",
       "    <tr style=\"text-align: right;\">\n",
       "      <th></th>\n",
       "      <th>artist</th>\n",
       "      <th>track</th>\n",
       "      <th>album</th>\n",
       "      <th>timestamp</th>\n",
       "      <th>track_duration</th>\n",
       "      <th>listener_count</th>\n",
       "      <th>playcount</th>\n",
       "    </tr>\n",
       "  </thead>\n",
       "  <tbody>\n",
       "    <tr>\n",
       "      <td>0</td>\n",
       "      <td>Kara Marni</td>\n",
       "      <td>Trippin</td>\n",
       "      <td>Trippin</td>\n",
       "      <td>2021-03-25 18:52:38</td>\n",
       "      <td>172000</td>\n",
       "      <td>4008</td>\n",
       "      <td>20068</td>\n",
       "    </tr>\n",
       "    <tr>\n",
       "      <td>1</td>\n",
       "      <td>Lauv</td>\n",
       "      <td>I Like Me Better</td>\n",
       "      <td>I met you when I was 18. (the playlist)</td>\n",
       "      <td>2021-03-25 18:46:59</td>\n",
       "      <td>197000</td>\n",
       "      <td>309421</td>\n",
       "      <td>2623118</td>\n",
       "    </tr>\n",
       "    <tr>\n",
       "      <td>2</td>\n",
       "      <td>Bebe Rexha</td>\n",
       "      <td>Baby, I'm Jealous (feat. Doja Cat)</td>\n",
       "      <td>Baby, I'm Jealous (feat. Doja Cat)</td>\n",
       "      <td>2021-03-25 18:43:54</td>\n",
       "      <td>175000</td>\n",
       "      <td>119676</td>\n",
       "      <td>1086894</td>\n",
       "    </tr>\n",
       "    <tr>\n",
       "      <td>3</td>\n",
       "      <td>Lauv</td>\n",
       "      <td>I Like Me Better</td>\n",
       "      <td>I met you when I was 18. (the playlist)</td>\n",
       "      <td>2021-03-25 17:16:04</td>\n",
       "      <td>197000</td>\n",
       "      <td>309421</td>\n",
       "      <td>2623118</td>\n",
       "    </tr>\n",
       "    <tr>\n",
       "      <td>4</td>\n",
       "      <td>Bebe Rexha</td>\n",
       "      <td>Baby, I'm Jealous (feat. Doja Cat)</td>\n",
       "      <td>Baby, I'm Jealous (feat. Doja Cat)</td>\n",
       "      <td>2021-03-25 17:13:09</td>\n",
       "      <td>175000</td>\n",
       "      <td>119676</td>\n",
       "      <td>1086894</td>\n",
       "    </tr>\n",
       "  </tbody>\n",
       "</table>\n",
       "</div>"
      ],
      "text/plain": [
       "       artist                               track  \\\n",
       "0  Kara Marni                             Trippin   \n",
       "1        Lauv                    I Like Me Better   \n",
       "2  Bebe Rexha  Baby, I'm Jealous (feat. Doja Cat)   \n",
       "3        Lauv                    I Like Me Better   \n",
       "4  Bebe Rexha  Baby, I'm Jealous (feat. Doja Cat)   \n",
       "\n",
       "                                     album           timestamp  \\\n",
       "0                                  Trippin 2021-03-25 18:52:38   \n",
       "1  I met you when I was 18. (the playlist) 2021-03-25 18:46:59   \n",
       "2       Baby, I'm Jealous (feat. Doja Cat) 2021-03-25 18:43:54   \n",
       "3  I met you when I was 18. (the playlist) 2021-03-25 17:16:04   \n",
       "4       Baby, I'm Jealous (feat. Doja Cat) 2021-03-25 17:13:09   \n",
       "\n",
       "   track_duration  listener_count  playcount  \n",
       "0          172000            4008      20068  \n",
       "1          197000          309421    2623118  \n",
       "2          175000          119676    1086894  \n",
       "3          197000          309421    2623118  \n",
       "4          175000          119676    1086894  "
      ]
     },
     "execution_count": 16,
     "metadata": {},
     "output_type": "execute_result"
    }
   ],
   "source": [
    "# gets max 999 tracks at a time\n",
    "tracks = get_all_recent_tracks(user = user, network = network, limit_value = 100)\n",
    "tracks.head()"
   ]
  },
  {
   "cell_type": "code",
   "execution_count": 18,
   "metadata": {},
   "outputs": [],
   "source": [
    "tracks_w_tags = get_all_tags(tracks, network)"
   ]
  },
  {
   "cell_type": "code",
   "execution_count": 19,
   "metadata": {},
   "outputs": [
    {
     "data": {
      "text/html": [
       "<div>\n",
       "<style scoped>\n",
       "    .dataframe tbody tr th:only-of-type {\n",
       "        vertical-align: middle;\n",
       "    }\n",
       "\n",
       "    .dataframe tbody tr th {\n",
       "        vertical-align: top;\n",
       "    }\n",
       "\n",
       "    .dataframe thead th {\n",
       "        text-align: right;\n",
       "    }\n",
       "</style>\n",
       "<table border=\"1\" class=\"dataframe\">\n",
       "  <thead>\n",
       "    <tr style=\"text-align: right;\">\n",
       "      <th></th>\n",
       "      <th>artist</th>\n",
       "      <th>track</th>\n",
       "      <th>album</th>\n",
       "      <th>timestamp</th>\n",
       "      <th>track_duration</th>\n",
       "      <th>listener_count</th>\n",
       "      <th>playcount</th>\n",
       "      <th>all_artist_tags</th>\n",
       "      <th>top_3_artist_tags</th>\n",
       "      <th>all_track_tags</th>\n",
       "      <th>top_3_track_tags</th>\n",
       "    </tr>\n",
       "  </thead>\n",
       "  <tbody>\n",
       "    <tr>\n",
       "      <td>0</td>\n",
       "      <td>Kara Marni</td>\n",
       "      <td>Trippin</td>\n",
       "      <td>Trippin</td>\n",
       "      <td>2021-03-25 18:52:38</td>\n",
       "      <td>172000</td>\n",
       "      <td>4008</td>\n",
       "      <td>20068</td>\n",
       "      <td>[Rnb, Pop, Soul, Acoustic, Female, British, Si...</td>\n",
       "      <td>[Rnb, Pop, Soul]</td>\n",
       "      <td>[Great Quality Stuff, 2021 Single]</td>\n",
       "      <td>[Great Quality Stuff, 2021 Single]</td>\n",
       "    </tr>\n",
       "    <tr>\n",
       "      <td>1</td>\n",
       "      <td>Lauv</td>\n",
       "      <td>I Like Me Better</td>\n",
       "      <td>I met you when I was 18. (the playlist)</td>\n",
       "      <td>2021-03-25 18:46:59</td>\n",
       "      <td>197000</td>\n",
       "      <td>309421</td>\n",
       "      <td>2623118</td>\n",
       "      <td>[Indie Pop, Pop, Indie, Jazz, American, Male V...</td>\n",
       "      <td>[Indie Pop, Pop, Indie]</td>\n",
       "      <td>[Indie, Linedance 2017, To All The Boys Ive Lo...</td>\n",
       "      <td>[Indie, Linedance 2017, To All The Boys Ive Lo...</td>\n",
       "    </tr>\n",
       "    <tr>\n",
       "      <td>2</td>\n",
       "      <td>Bebe Rexha</td>\n",
       "      <td>Baby, I'm Jealous (feat. Doja Cat)</td>\n",
       "      <td>Baby, I'm Jealous (feat. Doja Cat)</td>\n",
       "      <td>2021-03-25 18:43:54</td>\n",
       "      <td>175000</td>\n",
       "      <td>119676</td>\n",
       "      <td>1086894</td>\n",
       "      <td>[Pop, Female Vocalists, Electronic, Singer-Son...</td>\n",
       "      <td>[Pop, Female Vocalists, Electronic]</td>\n",
       "      <td>[Pop, 2020, Electronic, Urban, Rnb, Hit, Infat...</td>\n",
       "      <td>[Pop, 2020, Electronic]</td>\n",
       "    </tr>\n",
       "    <tr>\n",
       "      <td>3</td>\n",
       "      <td>Lauv</td>\n",
       "      <td>I Like Me Better</td>\n",
       "      <td>I met you when I was 18. (the playlist)</td>\n",
       "      <td>2021-03-25 17:16:04</td>\n",
       "      <td>197000</td>\n",
       "      <td>309421</td>\n",
       "      <td>2623118</td>\n",
       "      <td>[Indie Pop, Pop, Indie, Jazz, American, Male V...</td>\n",
       "      <td>[Indie Pop, Pop, Indie]</td>\n",
       "      <td>[Indie, Linedance 2017, To All The Boys Ive Lo...</td>\n",
       "      <td>[Indie, Linedance 2017, To All The Boys Ive Lo...</td>\n",
       "    </tr>\n",
       "    <tr>\n",
       "      <td>4</td>\n",
       "      <td>Bebe Rexha</td>\n",
       "      <td>Baby, I'm Jealous (feat. Doja Cat)</td>\n",
       "      <td>Baby, I'm Jealous (feat. Doja Cat)</td>\n",
       "      <td>2021-03-25 17:13:09</td>\n",
       "      <td>175000</td>\n",
       "      <td>119676</td>\n",
       "      <td>1086894</td>\n",
       "      <td>[Pop, Female Vocalists, Electronic, Singer-Son...</td>\n",
       "      <td>[Pop, Female Vocalists, Electronic]</td>\n",
       "      <td>[Pop, 2020, Electronic, Urban, Rnb, Hit, Infat...</td>\n",
       "      <td>[Pop, 2020, Electronic]</td>\n",
       "    </tr>\n",
       "    <tr>\n",
       "      <td>...</td>\n",
       "      <td>...</td>\n",
       "      <td>...</td>\n",
       "      <td>...</td>\n",
       "      <td>...</td>\n",
       "      <td>...</td>\n",
       "      <td>...</td>\n",
       "      <td>...</td>\n",
       "      <td>...</td>\n",
       "      <td>...</td>\n",
       "      <td>...</td>\n",
       "      <td>...</td>\n",
       "    </tr>\n",
       "    <tr>\n",
       "      <td>95</td>\n",
       "      <td>Vitamin String Quartet</td>\n",
       "      <td>thank u, next</td>\n",
       "      <td>Bridgerton (Covers from the Netflix Original S...</td>\n",
       "      <td>2021-03-24 12:50:54</td>\n",
       "      <td>209000</td>\n",
       "      <td>13301</td>\n",
       "      <td>43378</td>\n",
       "      <td>[Instrumental, Classical, Covers, Strings, Tri...</td>\n",
       "      <td>[Instrumental, Classical, Covers]</td>\n",
       "      <td>[]</td>\n",
       "      <td>[]</td>\n",
       "    </tr>\n",
       "    <tr>\n",
       "      <td>96</td>\n",
       "      <td>CeeLo Green</td>\n",
       "      <td>I Want You (Hold On To Love)</td>\n",
       "      <td>The Lady Killer (The Platinum Edition)</td>\n",
       "      <td>2021-03-24 12:47:23</td>\n",
       "      <td>0</td>\n",
       "      <td>5853</td>\n",
       "      <td>31844</td>\n",
       "      <td>[Soul, Funk, Hip-Hop, Seen Live, Rnb, Hip Hop,...</td>\n",
       "      <td>[Soul, Funk, Hip-Hop]</td>\n",
       "      <td>[Strawberry Lemonade]</td>\n",
       "      <td>[Strawberry Lemonade]</td>\n",
       "    </tr>\n",
       "    <tr>\n",
       "      <td>97</td>\n",
       "      <td>Doja Cat</td>\n",
       "      <td>Like That (feat. Gucci Mane)</td>\n",
       "      <td>Hot Pink</td>\n",
       "      <td>2021-03-24 12:44:40</td>\n",
       "      <td>163000</td>\n",
       "      <td>241466</td>\n",
       "      <td>2726721</td>\n",
       "      <td>[Pop, Rnb, Rap, Hip-Hop, Female Vocalists, Hip...</td>\n",
       "      <td>[Pop, Rnb, Rap]</td>\n",
       "      <td>[Rnb, Hip Hop, Hip-Hop, Pop, Urban, American, ...</td>\n",
       "      <td>[Rnb, Hip Hop, Hip-Hop]</td>\n",
       "    </tr>\n",
       "    <tr>\n",
       "      <td>98</td>\n",
       "      <td>Camila Cabello</td>\n",
       "      <td>She Loves Control</td>\n",
       "      <td>Camila</td>\n",
       "      <td>2021-03-24 12:39:39</td>\n",
       "      <td>177000</td>\n",
       "      <td>138955</td>\n",
       "      <td>1557584</td>\n",
       "      <td>[Pop, Female Vocalists, Cuba, Cuban, Dance, Se...</td>\n",
       "      <td>[Pop, Female Vocalists, Cuba]</td>\n",
       "      <td>[Pop, Dancehall, Dance, Rnb, Catchy, Bop, Lati...</td>\n",
       "      <td>[Pop, Dancehall, Dance]</td>\n",
       "    </tr>\n",
       "    <tr>\n",
       "      <td>99</td>\n",
       "      <td>Just Kiddin</td>\n",
       "      <td>Time Alone</td>\n",
       "      <td>Time Alone</td>\n",
       "      <td>2021-03-24 12:36:26</td>\n",
       "      <td>265000</td>\n",
       "      <td>2747</td>\n",
       "      <td>7555</td>\n",
       "      <td>[House, Electronic, Deep House, Moombahton, In...</td>\n",
       "      <td>[House, Electronic, Deep House]</td>\n",
       "      <td>[]</td>\n",
       "      <td>[]</td>\n",
       "    </tr>\n",
       "  </tbody>\n",
       "</table>\n",
       "<p>100 rows × 11 columns</p>\n",
       "</div>"
      ],
      "text/plain": [
       "                    artist                               track  \\\n",
       "0               Kara Marni                             Trippin   \n",
       "1                     Lauv                    I Like Me Better   \n",
       "2               Bebe Rexha  Baby, I'm Jealous (feat. Doja Cat)   \n",
       "3                     Lauv                    I Like Me Better   \n",
       "4               Bebe Rexha  Baby, I'm Jealous (feat. Doja Cat)   \n",
       "..                     ...                                 ...   \n",
       "95  Vitamin String Quartet                       thank u, next   \n",
       "96             CeeLo Green        I Want You (Hold On To Love)   \n",
       "97                Doja Cat        Like That (feat. Gucci Mane)   \n",
       "98          Camila Cabello                   She Loves Control   \n",
       "99             Just Kiddin                          Time Alone   \n",
       "\n",
       "                                                album           timestamp  \\\n",
       "0                                             Trippin 2021-03-25 18:52:38   \n",
       "1             I met you when I was 18. (the playlist) 2021-03-25 18:46:59   \n",
       "2                  Baby, I'm Jealous (feat. Doja Cat) 2021-03-25 18:43:54   \n",
       "3             I met you when I was 18. (the playlist) 2021-03-25 17:16:04   \n",
       "4                  Baby, I'm Jealous (feat. Doja Cat) 2021-03-25 17:13:09   \n",
       "..                                                ...                 ...   \n",
       "95  Bridgerton (Covers from the Netflix Original S... 2021-03-24 12:50:54   \n",
       "96             The Lady Killer (The Platinum Edition) 2021-03-24 12:47:23   \n",
       "97                                           Hot Pink 2021-03-24 12:44:40   \n",
       "98                                             Camila 2021-03-24 12:39:39   \n",
       "99                                         Time Alone 2021-03-24 12:36:26   \n",
       "\n",
       "    track_duration  listener_count  playcount  \\\n",
       "0           172000            4008      20068   \n",
       "1           197000          309421    2623118   \n",
       "2           175000          119676    1086894   \n",
       "3           197000          309421    2623118   \n",
       "4           175000          119676    1086894   \n",
       "..             ...             ...        ...   \n",
       "95          209000           13301      43378   \n",
       "96               0            5853      31844   \n",
       "97          163000          241466    2726721   \n",
       "98          177000          138955    1557584   \n",
       "99          265000            2747       7555   \n",
       "\n",
       "                                      all_artist_tags  \\\n",
       "0   [Rnb, Pop, Soul, Acoustic, Female, British, Si...   \n",
       "1   [Indie Pop, Pop, Indie, Jazz, American, Male V...   \n",
       "2   [Pop, Female Vocalists, Electronic, Singer-Son...   \n",
       "3   [Indie Pop, Pop, Indie, Jazz, American, Male V...   \n",
       "4   [Pop, Female Vocalists, Electronic, Singer-Son...   \n",
       "..                                                ...   \n",
       "95  [Instrumental, Classical, Covers, Strings, Tri...   \n",
       "96  [Soul, Funk, Hip-Hop, Seen Live, Rnb, Hip Hop,...   \n",
       "97  [Pop, Rnb, Rap, Hip-Hop, Female Vocalists, Hip...   \n",
       "98  [Pop, Female Vocalists, Cuba, Cuban, Dance, Se...   \n",
       "99  [House, Electronic, Deep House, Moombahton, In...   \n",
       "\n",
       "                      top_3_artist_tags  \\\n",
       "0                      [Rnb, Pop, Soul]   \n",
       "1               [Indie Pop, Pop, Indie]   \n",
       "2   [Pop, Female Vocalists, Electronic]   \n",
       "3               [Indie Pop, Pop, Indie]   \n",
       "4   [Pop, Female Vocalists, Electronic]   \n",
       "..                                  ...   \n",
       "95    [Instrumental, Classical, Covers]   \n",
       "96                [Soul, Funk, Hip-Hop]   \n",
       "97                      [Pop, Rnb, Rap]   \n",
       "98        [Pop, Female Vocalists, Cuba]   \n",
       "99      [House, Electronic, Deep House]   \n",
       "\n",
       "                                       all_track_tags  \\\n",
       "0                  [Great Quality Stuff, 2021 Single]   \n",
       "1   [Indie, Linedance 2017, To All The Boys Ive Lo...   \n",
       "2   [Pop, 2020, Electronic, Urban, Rnb, Hit, Infat...   \n",
       "3   [Indie, Linedance 2017, To All The Boys Ive Lo...   \n",
       "4   [Pop, 2020, Electronic, Urban, Rnb, Hit, Infat...   \n",
       "..                                                ...   \n",
       "95                                                 []   \n",
       "96                              [Strawberry Lemonade]   \n",
       "97  [Rnb, Hip Hop, Hip-Hop, Pop, Urban, American, ...   \n",
       "98  [Pop, Dancehall, Dance, Rnb, Catchy, Bop, Lati...   \n",
       "99                                                 []   \n",
       "\n",
       "                                     top_3_track_tags  \n",
       "0                  [Great Quality Stuff, 2021 Single]  \n",
       "1   [Indie, Linedance 2017, To All The Boys Ive Lo...  \n",
       "2                             [Pop, 2020, Electronic]  \n",
       "3   [Indie, Linedance 2017, To All The Boys Ive Lo...  \n",
       "4                             [Pop, 2020, Electronic]  \n",
       "..                                                ...  \n",
       "95                                                 []  \n",
       "96                              [Strawberry Lemonade]  \n",
       "97                            [Rnb, Hip Hop, Hip-Hop]  \n",
       "98                            [Pop, Dancehall, Dance]  \n",
       "99                                                 []  \n",
       "\n",
       "[100 rows x 11 columns]"
      ]
     },
     "execution_count": 19,
     "metadata": {},
     "output_type": "execute_result"
    }
   ],
   "source": [
    "tracks_w_tags"
   ]
  },
  {
   "cell_type": "code",
   "execution_count": 20,
   "metadata": {},
   "outputs": [],
   "source": [
    "tracks_w_tags.to_csv('data/raw_data/music_with_tags_20210807.csv', index = False)"
   ]
  },
  {
   "cell_type": "markdown",
   "metadata": {},
   "source": [
    "<br>"
   ]
  },
  {
   "cell_type": "markdown",
   "metadata": {},
   "source": [
    "# Get MBID of all artists/tracks/albums"
   ]
  },
  {
   "cell_type": "code",
   "execution_count": 21,
   "metadata": {},
   "outputs": [],
   "source": [
    "df_mbid = get_mbid_of_all_rows(tracks_w_tags, network)"
   ]
  },
  {
   "cell_type": "code",
   "execution_count": 22,
   "metadata": {},
   "outputs": [],
   "source": [
    "df_mbid.to_csv('data/raw_data/music_with_mbid_20210807.csv', index = False)"
   ]
  },
  {
   "cell_type": "markdown",
   "metadata": {},
   "source": [
    "<br>"
   ]
  },
  {
   "cell_type": "markdown",
   "metadata": {},
   "source": [
    "# Get Locations & MusicBrainz Info"
   ]
  },
  {
   "cell_type": "code",
   "execution_count": 23,
   "metadata": {},
   "outputs": [
    {
     "name": "stderr",
     "output_type": "stream",
     "text": [
      "get_artist_by_id error: {'gender': 'Female', 'sort-name': 'Rexha, Bebe', 'area': {'type-id': None, 'sort-name': 'United States', 'iso-3166-1-codes': ['US'], 'name': 'United States', 'disambiguation': '', 'id': '489ce91b-6658-3307-9877-795b68554c98', 'type': None}, 'country': 'US', 'id': 'db8fad3a-e131-47a1-8782-c2ee93708cdd', 'end_area': None, 'type': 'Person', 'isnis': ['0000000434296460'], 'ipis': ['00550052885', '00618131569'], 'name': 'Bebe Rexha', 'disambiguation': '', 'life-span': {'end': None, 'ended': False, 'begin': '1989-08-30'}, 'end-area': None, 'gender-id': '93452b5a-a947-30c8-934f-6a4056b151c2', 'begin_area': {'name': 'New York', 'sort-name': 'New York', 'type-id': None, 'type': None, 'id': '74e50e58-5deb-4b99-93a2-decbb365c07f', 'disambiguation': ''}, 'begin-area': {'name': 'New York', 'sort-name': 'New York', 'type-id': None, 'type': None, 'id': '74e50e58-5deb-4b99-93a2-decbb365c07f', 'disambiguation': ''}, 'type-id': 'b6e035f4-3ce9-331c-97df-83397230b0df'}\n"
     ]
    },
    {
     "name": "stdout",
     "output_type": "stream",
     "text": [
      "there are 66 unique artists to get details for\n"
     ]
    },
    {
     "name": "stderr",
     "output_type": "stream",
     "text": [
      "row #0 failed: 'NoneType' object is not subscriptable\n",
      "get_artist_by_id error: {'gender-id': '93452b5a-a947-30c8-934f-6a4056b151c2', 'name': 'Doja Cat', 'end-area': None, 'ipis': ['00361728553'], 'begin_area': {'name': 'Los Angeles', 'id': '1f40c6e1-47ba-4e35-996f-fe6ee5840e62', 'type-id': None, 'disambiguation': '', 'type': None, 'sort-name': 'Los Angeles'}, 'isnis': ['0000000465726144'], 'country': 'US', 'disambiguation': '', 'gender': 'Female', 'life-span': {'begin': '1995-10-21', 'ended': False, 'end': None}, 'id': '5df62a88-cac9-490a-b62c-c7c88f4020f4', 'area': {'iso-3166-1-codes': ['US'], 'disambiguation': '', 'type-id': None, 'type': None, 'sort-name': 'United States', 'name': 'United States', 'id': '489ce91b-6658-3307-9877-795b68554c98'}, 'begin-area': {'name': 'Los Angeles', 'id': '1f40c6e1-47ba-4e35-996f-fe6ee5840e62', 'type-id': None, 'disambiguation': '', 'type': None, 'sort-name': 'Los Angeles'}, 'end_area': None, 'type': 'Person', 'type-id': 'b6e035f4-3ce9-331c-97df-83397230b0df', 'sort-name': 'Doja Cat'}\n",
      "row #1 failed: 'NoneType' object is not subscriptable\n",
      "get_artist_by_id error: {'sort-name': 'Lovato, Demi', 'type': 'Person', 'type-id': 'b6e035f4-3ce9-331c-97df-83397230b0df', 'begin-area': {'name': 'Albuquerque', 'id': '075e1cc9-9567-4317-a931-4f6dcecc688f', 'type': None, 'type-id': None, 'disambiguation': '', 'sort-name': 'Albuquerque'}, 'end_area': None, 'id': 'faf4cefb-036c-4c88-b93a-5b03dd0a0e6b', 'area': {'name': 'United States', 'id': '489ce91b-6658-3307-9877-795b68554c98', 'type': None, 'disambiguation': '', 'iso-3166-1-codes': ['US'], 'type-id': None, 'sort-name': 'United States'}, 'life-span': {'begin': '1992-08-20', 'ended': False, 'end': None}, 'gender': 'Other', 'country': 'US', 'disambiguation': '', 'begin_area': {'name': 'Albuquerque', 'id': '075e1cc9-9567-4317-a931-4f6dcecc688f', 'type': None, 'type-id': None, 'disambiguation': '', 'sort-name': 'Albuquerque'}, 'isnis': ['0000000109291383'], 'ipis': ['00556058929'], 'end-area': None, 'gender-id': '081c0bf5-da60-37b0-95f8-2207a3f7f9d6', 'name': 'Demi Lovato'}\n",
      "row #2 failed: 'NoneType' object is not subscriptable\n",
      "get_artist_by_id error: {'type-id': 'e431f5f6-b5d2-343d-8b36-72607fffb74b', 'begin_area': {'type-id': None, 'name': 'Sydney', 'sort-name': 'Sydney', 'id': '3f179da4-83c6-4a28-a627-e46b4a8ff1ed', 'disambiguation': '', 'type': None}, 'begin-area': {'type-id': None, 'name': 'Sydney', 'sort-name': 'Sydney', 'id': '3f179da4-83c6-4a28-a627-e46b4a8ff1ed', 'disambiguation': '', 'type': None}, 'ipis': [], 'name': 'Flight Facilities', 'disambiguation': '', 'life-span': {'ended': False, 'begin': '2010', 'end': None}, 'end-area': None, 'gender-id': None, 'gender': None, 'sort-name': 'Flight Facilities', 'area': {'type': None, 'disambiguation': '', 'id': '106e0bec-b638-3b37-b731-f53d507dc00e', 'iso-3166-1-codes': ['AU'], 'sort-name': 'Australia', 'name': 'Australia', 'type-id': None}, 'country': 'AU', 'id': '785e1c02-f535-4fc0-a1d6-23de849ebdcb', 'end_area': None, 'type': 'Group', 'isnis': []}\n",
      "row #3 failed: 'NoneType' object is not subscriptable\n",
      "get_artist_by_id error: {'end-area': {'iso-3166-1-codes': ['GB'], 'sort-name': 'United Kingdom', 'id': '8a754a16-0027-3a29-b6d7-2b40ea0481ed', 'type': None, 'name': 'United Kingdom', 'disambiguation': '', 'type-id': None}, 'life-span': {'ended': True, 'begin': '1930-10-28', 'end': '2004-03-09'}, 'end_area': {'iso-3166-1-codes': ['GB'], 'sort-name': 'United Kingdom', 'id': '8a754a16-0027-3a29-b6d7-2b40ea0481ed', 'type': None, 'name': 'United Kingdom', 'disambiguation': '', 'type-id': None}, 'type-id': 'b6e035f4-3ce9-331c-97df-83397230b0df', 'ipis': [], 'area': {'type-id': None, 'disambiguation': '', 'name': 'India', 'type': None, 'id': 'd31a9a15-537f-3669-ad53-25753ddd2772', 'sort-name': 'India', 'iso-3166-1-codes': ['IN']}, 'country': 'IN', 'type': 'Person', 'sort-name': 'Mayer, John', 'begin_area': {'sort-name': 'Kolkata', 'disambiguation': '', 'type-id': None, 'id': 'd65e525b-eac9-493c-bc78-0204c7285670', 'name': 'Kolkata', 'type': None}, 'begin-area': {'sort-name': 'Kolkata', 'disambiguation': '', 'type-id': None, 'id': 'd65e525b-eac9-493c-bc78-0204c7285670', 'name': 'Kolkata', 'type': None}, 'isnis': ['0000000115916407'], 'disambiguation': 'violin, Indo-Jazz composer', 'gender': 'Male', 'id': '8a81edd9-6f62-4ac7-afee-17dc0fec5fe7', 'name': 'John Mayer', 'gender-id': '36d3d30a-839d-3eda-8cb3-29be4384e4a9'}\n",
      "row #4 failed: 'NoneType' object is not subscriptable\n",
      "get_artist_by_id error: {'sort-name': 'LION BABE', 'type': 'Group', 'type-id': 'e431f5f6-b5d2-343d-8b36-72607fffb74b', 'begin-area': {'id': '74e50e58-5deb-4b99-93a2-decbb365c07f', 'name': 'New York', 'sort-name': 'New York', 'disambiguation': '', 'type-id': None, 'type': None}, 'end_area': None, 'id': 'c9dda914-1eb2-4762-8006-208010b89ee3', 'area': {'type-id': None, 'disambiguation': '', 'type': None, 'sort-name': 'New York', 'name': 'New York', 'id': '74e50e58-5deb-4b99-93a2-decbb365c07f'}, 'life-span': {'ended': False, 'begin': None, 'end': None}, 'gender': None, 'country': None, 'disambiguation': '', 'begin_area': {'id': '74e50e58-5deb-4b99-93a2-decbb365c07f', 'name': 'New York', 'sort-name': 'New York', 'disambiguation': '', 'type-id': None, 'type': None}, 'isnis': [], 'ipis': [], 'end-area': None, 'gender-id': None, 'name': 'LION BABE'}\n",
      "row #5 failed: 'NoneType' object is not subscriptable\n",
      "get_artist_by_id error: {'end_area': None, 'type-id': 'e431f5f6-b5d2-343d-8b36-72607fffb74b', 'life-span': {'begin': '2005', 'end': None, 'ended': False}, 'type': 'Group', 'ipis': [], 'area': {'sort-name': 'United Kingdom', 'iso-3166-1-codes': ['GB'], 'type': None, 'name': 'United Kingdom', 'id': '8a754a16-0027-3a29-b6d7-2b40ea0481ed', 'type-id': None, 'disambiguation': ''}, 'country': 'GB', 'end-area': None, 'gender': None, 'disambiguation': '', 'gender-id': None, 'name': 'Bombay Bicycle Club', 'id': '0ae49abe-d6af-44fa-8ab0-b9ace5690e6f', 'sort-name': 'Bombay Bicycle Club', 'begin_area': {'id': '1f2f8902-d8ed-41b5-b013-bd8d707851b2', 'type': None, 'name': 'Crouch End', 'disambiguation': '', 'sort-name': 'Crouch End', 'type-id': None}, 'isnis': ['0000000121592875'], 'begin-area': {'id': '1f2f8902-d8ed-41b5-b013-bd8d707851b2', 'type': None, 'name': 'Crouch End', 'disambiguation': '', 'sort-name': 'Crouch End', 'type-id': None}}\n",
      "row #6 failed: 'NoneType' object is not subscriptable\n",
      "get_artist_by_id error: {'begin-area': {'disambiguation': '', 'sort-name': 'London', 'id': 'f03d09b3-39dc-4083-afd6-159e3f0d462f', 'type-id': None, 'name': 'London', 'type': None}, 'end-area': None, 'country': 'GB', 'id': '72d3dc3f-3984-42b9-89de-42d6eeb1abf3', 'isnis': ['0000000118647900'], 'begin_area': {'disambiguation': '', 'sort-name': 'London', 'id': 'f03d09b3-39dc-4083-afd6-159e3f0d462f', 'type-id': None, 'name': 'London', 'type': None}, 'disambiguation': '', 'type': 'Group', 'gender-id': None, 'end_area': None, 'gender': None, 'name': 'McFLY', 'area': {'disambiguation': '', 'id': '8a754a16-0027-3a29-b6d7-2b40ea0481ed', 'sort-name': 'United Kingdom', 'type-id': None, 'iso-3166-1-codes': ['GB'], 'name': 'United Kingdom', 'type': None}, 'type-id': 'e431f5f6-b5d2-343d-8b36-72607fffb74b', 'sort-name': 'McFLY', 'ipis': [], 'life-span': {'end': None, 'begin': '2004', 'ended': False}}\n",
      "row #7 failed: 'NoneType' object is not subscriptable\n",
      "get_artist_by_id error: {'begin-area': {'sort-name': 'Philadelphia', 'id': '0eeb01c2-6e31-46ad-96b8-319749f731d2', 'type': None, 'type-id': None, 'disambiguation': '', 'name': 'Philadelphia'}, 'ipis': [], 'country': 'US', 'end-area': None, 'life-span': {'ended': False, 'begin': '2009', 'end': None}, 'type': 'Group', 'isnis': [], 'begin_area': {'sort-name': 'Philadelphia', 'id': '0eeb01c2-6e31-46ad-96b8-319749f731d2', 'type': None, 'type-id': None, 'disambiguation': '', 'name': 'Philadelphia'}, 'gender': None, 'disambiguation': '', 'name': 'Chiddy Bang', 'area': {'iso-3166-1-codes': ['US'], 'disambiguation': '', 'name': 'United States', 'type': None, 'type-id': None, 'id': '489ce91b-6658-3307-9877-795b68554c98', 'sort-name': 'United States'}, 'gender-id': None, 'id': 'd452681b-41e0-46a0-bb17-e77d23dfc220', 'type-id': 'e431f5f6-b5d2-343d-8b36-72607fffb74b', 'end_area': None, 'sort-name': 'Chiddy Bang'}\n"
     ]
    },
    {
     "name": "stderr",
     "output_type": "stream",
     "text": [
      "row #8 failed: 'NoneType' object is not subscriptable\n",
      "get_artist_by_id error: {'name': '5 Seconds of Summer', 'ipis': [], 'gender-id': None, 'life-span': {'ended': False, 'begin': '2011', 'end': None}, 'end-area': None, 'disambiguation': '', 'area': {'type': None, 'id': '106e0bec-b638-3b37-b731-f53d507dc00e', 'disambiguation': '', 'sort-name': 'Australia', 'iso-3166-1-codes': ['AU'], 'name': 'Australia', 'type-id': None}, 'sort-name': '5 Seconds of Summer', 'gender': None, 'isnis': [], 'type': 'Group', 'end_area': None, 'id': '830e5c4e-6b7d-431d-86ab-00c751281dc5', 'country': 'AU', 'type-id': 'e431f5f6-b5d2-343d-8b36-72607fffb74b', 'begin-area': {'sort-name': 'Sydney', 'name': 'Sydney', 'type-id': None, 'type': None, 'disambiguation': '', 'id': '3f179da4-83c6-4a28-a627-e46b4a8ff1ed'}, 'begin_area': {'sort-name': 'Sydney', 'name': 'Sydney', 'type-id': None, 'type': None, 'disambiguation': '', 'id': '3f179da4-83c6-4a28-a627-e46b4a8ff1ed'}}\n",
      "row #9 failed: [Errno 2] No such file or directory: 'place_data/artist_cache.js'\n",
      "get_artist_by_id error: {'area': {'iso-3166-1-codes': ['GB'], 'name': 'United Kingdom', 'id': '8a754a16-0027-3a29-b6d7-2b40ea0481ed', 'disambiguation': '', 'type-id': None, 'type': None, 'sort-name': 'United Kingdom'}, 'life-span': {'begin': '1985-05-02', 'end': None, 'ended': False}, 'id': '6e0c7c0e-cba5-4c2c-a652-38f71ef5785d', 'disambiguation': '', 'begin-area': {'type': None, 'sort-name': 'Hammersmith', 'type-id': None, 'id': '8147ca78-c199-4083-a9a9-971f0d13e071', 'name': 'Hammersmith', 'disambiguation': ''}, 'type': 'Person', 'end-area': None, 'ipis': ['00505690654'], 'begin_area': {'type': None, 'sort-name': 'Hammersmith', 'type-id': None, 'id': '8147ca78-c199-4083-a9a9-971f0d13e071', 'name': 'Hammersmith', 'disambiguation': ''}, 'isnis': ['0000000078480332'], 'end_area': None, 'name': 'Lily Allen', 'sort-name': 'Allen, Lily', 'type-id': 'b6e035f4-3ce9-331c-97df-83397230b0df', 'country': 'GB', 'gender': 'Female', 'gender-id': '93452b5a-a947-30c8-934f-6a4056b151c2'}\n",
      "row #10 failed: 'NoneType' object is not subscriptable\n",
      "get_artist_by_id error: {'ipis': [], 'country': 'US', 'begin-area': {'type-id': None, 'type': None, 'id': '1f40c6e1-47ba-4e35-996f-fe6ee5840e62', 'sort-name': 'Los Angeles', 'name': 'Los Angeles', 'disambiguation': ''}, 'gender': None, 'begin_area': {'type-id': None, 'type': None, 'id': '1f40c6e1-47ba-4e35-996f-fe6ee5840e62', 'sort-name': 'Los Angeles', 'name': 'Los Angeles', 'disambiguation': ''}, 'isnis': [], 'type': 'Group', 'life-span': {'begin': '2008', 'end': None, 'ended': False}, 'end-area': None, 'name': 'Fitz and the Tantrums', 'disambiguation': '', 'sort-name': 'Fitz and the Tantrums', 'end_area': None, 'type-id': 'e431f5f6-b5d2-343d-8b36-72607fffb74b', 'id': '8560d4e8-05e2-4c20-980b-ad2db445dd5d', 'gender-id': None, 'area': {'name': 'United States', 'iso-3166-1-codes': ['US'], 'disambiguation': '', 'type': None, 'type-id': None, 'id': '489ce91b-6658-3307-9877-795b68554c98', 'sort-name': 'United States'}}\n",
      "row #11 failed: 'NoneType' object is not subscriptable\n",
      "get_artist_by_id error: {'gender': 'Male', 'gender-id': '36d3d30a-839d-3eda-8cb3-29be4384e4a9', 'type': 'Person', 'end_area': None, 'type-id': 'b6e035f4-3ce9-331c-97df-83397230b0df', 'sort-name': 'Jordan, David', 'ipis': [], 'life-span': {'begin': '1985-09-13', 'ended': False, 'end': None}, 'name': 'David Jordan', 'area': {'name': 'London', 'type': None, 'disambiguation': '', 'sort-name': 'London', 'id': 'f03d09b3-39dc-4083-afd6-159e3f0d462f', 'type-id': None}, 'id': '6cf0df83-ff72-42ba-8332-d0f63916d758', 'begin-area': {'name': 'Barnet', 'type': None, 'disambiguation': '', 'iso-3166-2-codes': ['GB-BNE'], 'id': 'f6fc8acf-4acb-4179-b9cb-36612e1c15a6', 'sort-name': 'Barnet', 'type-id': None}, 'end-area': None, 'country': None, 'begin_area': {'name': 'Barnet', 'type': None, 'disambiguation': '', 'iso-3166-2-codes': ['GB-BNE'], 'id': 'f6fc8acf-4acb-4179-b9cb-36612e1c15a6', 'sort-name': 'Barnet', 'type-id': None}, 'disambiguation': 'UK soul singer/songwriter', 'isnis': ['0000000107922233']}\n",
      "row #12 failed: 'NoneType' object is not subscriptable\n",
      "get_artist_by_id error: {'name': 'Exo', 'area': None, 'type-id': 'b6e035f4-3ce9-331c-97df-83397230b0df', 'ipis': [], 'sort-name': 'Exo', 'life-span': {'end': None, 'begin': None, 'ended': False}, 'gender-id': '36d3d30a-839d-3eda-8cb3-29be4384e4a9', 'type': 'Person', 'end_area': None, 'gender': 'Male', 'isnis': ['0000000406957970', '0000000462162312'], 'begin_area': None, 'disambiguation': 'trance, alias for Freek Fontein', 'begin-area': None, 'end-area': None, 'country': None, 'id': '4b15e565-a4d4-4823-b4bb-794b28454b18'}\n",
      "row #13 failed: 'NoneType' object is not subscriptable\n",
      "get_artist_by_id error: {'error': 'Your requests are exceeding the allowable rate limit. Please see http://wiki.musicbrainz.org/XMLWebService for more information.'}\n",
      "row #14 failed: 'NoneType' object is not subscriptable\n",
      "get_artist_by_id error: {'error': 'Your requests are exceeding the allowable rate limit. Please see http://wiki.musicbrainz.org/XMLWebService for more information.'}\n",
      "row #15 failed: 'NoneType' object is not subscriptable\n",
      "get_artist_by_id error: {'error': 'Your requests are exceeding the allowable rate limit. Please see http://wiki.musicbrainz.org/XMLWebService for more information.'}\n",
      "row #16 failed: 'NoneType' object is not subscriptable\n",
      "get_artist_by_id error: {'error': 'Your requests are exceeding the allowable rate limit. Please see http://wiki.musicbrainz.org/XMLWebService for more information.'}\n",
      "row #17 failed: 'NoneType' object is not subscriptable\n",
      "get_artist_by_id error: {'error': 'Your requests are exceeding the allowable rate limit. Please see http://wiki.musicbrainz.org/XMLWebService for more information.'}\n",
      "row #18 failed: 'NoneType' object is not subscriptable\n",
      "get_artist_by_id error: {'error': 'Your requests are exceeding the allowable rate limit. Please see http://wiki.musicbrainz.org/XMLWebService for more information.'}\n",
      "row #19 failed: [Errno 2] No such file or directory: 'place_data/artist_cache.js'\n",
      "get_artist_by_id error: {'error': 'Your requests are exceeding the allowable rate limit. Please see http://wiki.musicbrainz.org/XMLWebService for more information.'}\n",
      "row #20 failed: 'NoneType' object is not subscriptable\n",
      "get_artist_by_id error: {'error': 'Your requests are exceeding the allowable rate limit. Please see http://wiki.musicbrainz.org/XMLWebService for more information.'}\n",
      "row #21 failed: 'NoneType' object is not subscriptable\n",
      "get_artist_by_id error: {'error': 'Your requests are exceeding the allowable rate limit. Please see http://wiki.musicbrainz.org/XMLWebService for more information.'}\n",
      "row #22 failed: 'NoneType' object is not subscriptable\n",
      "get_artist_by_id error: {'error': 'Your requests are exceeding the allowable rate limit. Please see http://wiki.musicbrainz.org/XMLWebService for more information.'}\n",
      "row #23 failed: 'NoneType' object is not subscriptable\n",
      "get_artist_by_id error: {'error': 'Your requests are exceeding the allowable rate limit. Please see http://wiki.musicbrainz.org/XMLWebService for more information.'}\n",
      "row #24 failed: 'NoneType' object is not subscriptable\n",
      "get_artist_by_id error: {'error': 'Your requests are exceeding the allowable rate limit. Please see http://wiki.musicbrainz.org/XMLWebService for more information.'}\n",
      "row #25 failed: 'NoneType' object is not subscriptable\n",
      "get_artist_by_id error: {'error': 'Your requests are exceeding the allowable rate limit. Please see http://wiki.musicbrainz.org/XMLWebService for more information.'}\n",
      "row #26 failed: 'NoneType' object is not subscriptable\n",
      "get_artist_by_id error: {'error': 'Your requests are exceeding the allowable rate limit. Please see http://wiki.musicbrainz.org/XMLWebService for more information.'}\n",
      "row #27 failed: 'NoneType' object is not subscriptable\n",
      "get_artist_by_id error: {'error': 'Your requests are exceeding the allowable rate limit. Please see http://wiki.musicbrainz.org/XMLWebService for more information.'}\n",
      "row #28 failed: 'NoneType' object is not subscriptable\n",
      "get_artist_by_id error: {'error': 'Your requests are exceeding the allowable rate limit. Please see http://wiki.musicbrainz.org/XMLWebService for more information.'}\n"
     ]
    },
    {
     "name": "stderr",
     "output_type": "stream",
     "text": [
      "row #29 failed: [Errno 2] No such file or directory: 'place_data/artist_cache.js'\n",
      "get_artist_by_id error: {'error': 'Your requests are exceeding the allowable rate limit. Please see http://wiki.musicbrainz.org/XMLWebService for more information.'}\n",
      "row #30 failed: 'NoneType' object is not subscriptable\n",
      "get_artist_by_id error: {'error': 'Your requests are exceeding the allowable rate limit. Please see http://wiki.musicbrainz.org/XMLWebService for more information.'}\n",
      "row #31 failed: 'NoneType' object is not subscriptable\n",
      "get_artist_by_id error: {'error': 'Your requests are exceeding the allowable rate limit. Please see http://wiki.musicbrainz.org/XMLWebService for more information.'}\n",
      "row #32 failed: 'NoneType' object is not subscriptable\n",
      "get_artist_by_id error: {'error': 'Your requests are exceeding the allowable rate limit. Please see http://wiki.musicbrainz.org/XMLWebService for more information.'}\n",
      "row #33 failed: 'NoneType' object is not subscriptable\n",
      "get_artist_by_id error: {'error': 'Your requests are exceeding the allowable rate limit. Please see http://wiki.musicbrainz.org/XMLWebService for more information.'}\n",
      "row #34 failed: 'NoneType' object is not subscriptable\n",
      "get_artist_by_id error: {'error': 'Your requests are exceeding the allowable rate limit. Please see http://wiki.musicbrainz.org/XMLWebService for more information.'}\n",
      "row #35 failed: 'NoneType' object is not subscriptable\n",
      "get_artist_by_id error: {'error': 'Your requests are exceeding the allowable rate limit. Please see http://wiki.musicbrainz.org/XMLWebService for more information.'}\n",
      "row #36 failed: 'NoneType' object is not subscriptable\n",
      "get_artist_by_id error: {'error': 'Your requests are exceeding the allowable rate limit. Please see http://wiki.musicbrainz.org/XMLWebService for more information.'}\n",
      "row #37 failed: 'NoneType' object is not subscriptable\n",
      "get_artist_by_id error: {'error': 'Your requests are exceeding the allowable rate limit. Please see http://wiki.musicbrainz.org/XMLWebService for more information.'}\n",
      "row #38 failed: 'NoneType' object is not subscriptable\n",
      "get_artist_by_id error: {'error': 'Your requests are exceeding the allowable rate limit. Please see http://wiki.musicbrainz.org/XMLWebService for more information.'}\n",
      "row #39 failed: [Errno 2] No such file or directory: 'place_data/artist_cache.js'\n",
      "get_artist_by_id error: {'error': 'Your requests are exceeding the allowable rate limit. Please see http://wiki.musicbrainz.org/XMLWebService for more information.'}\n",
      "row #40 failed: 'NoneType' object is not subscriptable\n",
      "get_artist_by_id error: {'error': 'Your requests are exceeding the allowable rate limit. Please see http://wiki.musicbrainz.org/XMLWebService for more information.'}\n",
      "row #41 failed: 'NoneType' object is not subscriptable\n",
      "get_artist_by_id error: {'error': 'Your requests are exceeding the allowable rate limit. Please see http://wiki.musicbrainz.org/XMLWebService for more information.'}\n",
      "row #42 failed: 'NoneType' object is not subscriptable\n",
      "get_artist_by_id error: {'error': 'Your requests are exceeding the allowable rate limit. Please see http://wiki.musicbrainz.org/XMLWebService for more information.'}\n",
      "row #43 failed: 'NoneType' object is not subscriptable\n",
      "get_artist_by_id error: {'error': 'Your requests are exceeding the allowable rate limit. Please see http://wiki.musicbrainz.org/XMLWebService for more information.'}\n",
      "row #44 failed: 'NoneType' object is not subscriptable\n",
      "get_artist_by_id error: {'error': 'Your requests are exceeding the allowable rate limit. Please see http://wiki.musicbrainz.org/XMLWebService for more information.'}\n",
      "row #45 failed: 'NoneType' object is not subscriptable\n",
      "get_artist_by_id error: {'error': 'Your requests are exceeding the allowable rate limit. Please see http://wiki.musicbrainz.org/XMLWebService for more information.'}\n",
      "row #46 failed: 'NoneType' object is not subscriptable\n",
      "get_artist_by_id error: {'error': 'Your requests are exceeding the allowable rate limit. Please see http://wiki.musicbrainz.org/XMLWebService for more information.'}\n",
      "row #47 failed: 'NoneType' object is not subscriptable\n",
      "get_artist_by_id error: {'error': 'Your requests are exceeding the allowable rate limit. Please see http://wiki.musicbrainz.org/XMLWebService for more information.'}\n",
      "row #48 failed: 'NoneType' object is not subscriptable\n",
      "get_artist_by_id error: {'error': 'Your requests are exceeding the allowable rate limit. Please see http://wiki.musicbrainz.org/XMLWebService for more information.'}\n",
      "row #49 failed: [Errno 2] No such file or directory: 'place_data/artist_cache.js'\n",
      "get_artist_by_id error: {'error': 'Your requests are exceeding the allowable rate limit. Please see http://wiki.musicbrainz.org/XMLWebService for more information.'}\n",
      "row #50 failed: 'NoneType' object is not subscriptable\n",
      "get_artist_by_id error: {'error': 'Your requests are exceeding the allowable rate limit. Please see http://wiki.musicbrainz.org/XMLWebService for more information.'}\n",
      "row #51 failed: 'NoneType' object is not subscriptable\n",
      "get_artist_by_id error: {'error': 'Your requests are exceeding the allowable rate limit. Please see http://wiki.musicbrainz.org/XMLWebService for more information.'}\n",
      "row #52 failed: 'NoneType' object is not subscriptable\n",
      "get_artist_by_id error: {'error': 'Your requests are exceeding the allowable rate limit. Please see http://wiki.musicbrainz.org/XMLWebService for more information.'}\n",
      "row #53 failed: 'NoneType' object is not subscriptable\n",
      "get_artist_by_id error: {'error': 'Your requests are exceeding the allowable rate limit. Please see http://wiki.musicbrainz.org/XMLWebService for more information.'}\n",
      "row #54 failed: 'NoneType' object is not subscriptable\n",
      "get_artist_by_id error: {'error': 'Your requests are exceeding the allowable rate limit. Please see http://wiki.musicbrainz.org/XMLWebService for more information.'}\n",
      "row #55 failed: 'NoneType' object is not subscriptable\n",
      "get_artist_by_id error: {'error': 'Your requests are exceeding the allowable rate limit. Please see http://wiki.musicbrainz.org/XMLWebService for more information.'}\n",
      "row #56 failed: 'NoneType' object is not subscriptable\n",
      "get_artist_by_id error: {'error': 'Your requests are exceeding the allowable rate limit. Please see http://wiki.musicbrainz.org/XMLWebService for more information.'}\n",
      "row #57 failed: 'NoneType' object is not subscriptable\n",
      "get_artist_by_id error: {'error': 'Your requests are exceeding the allowable rate limit. Please see http://wiki.musicbrainz.org/XMLWebService for more information.'}\n",
      "row #58 failed: 'NoneType' object is not subscriptable\n",
      "get_artist_by_id error: {'error': 'Your requests are exceeding the allowable rate limit. Please see http://wiki.musicbrainz.org/XMLWebService for more information.'}\n",
      "row #59 failed: [Errno 2] No such file or directory: 'place_data/artist_cache.js'\n",
      "get_artist_by_id error: {'error': 'Your requests are exceeding the allowable rate limit. Please see http://wiki.musicbrainz.org/XMLWebService for more information.'}\n",
      "row #60 failed: 'NoneType' object is not subscriptable\n",
      "get_artist_by_id error: {'error': 'Your requests are exceeding the allowable rate limit. Please see http://wiki.musicbrainz.org/XMLWebService for more information.'}\n",
      "row #61 failed: 'NoneType' object is not subscriptable\n",
      "get_artist_by_id error: {'error': 'Your requests are exceeding the allowable rate limit. Please see http://wiki.musicbrainz.org/XMLWebService for more information.'}\n",
      "row #62 failed: 'NoneType' object is not subscriptable\n",
      "get_artist_by_id error: {'error': 'Your requests are exceeding the allowable rate limit. Please see http://wiki.musicbrainz.org/XMLWebService for more information.'}\n",
      "row #63 failed: 'NoneType' object is not subscriptable\n",
      "get_artist_by_id error: {'country': 'GB', 'type-id': 'b6e035f4-3ce9-331c-97df-83397230b0df', 'end-area': None, 'name': 'Charli XCX', 'ipis': ['00568917985'], 'isnis': ['0000000130244127'], 'begin-area': {'type-id': None, 'name': 'Cambridge', 'disambiguation': '', 'id': '11ba7f4f-3fb9-4b4b-a72f-ab1cd9c37d99', 'type': None, 'sort-name': 'Cambridge'}, 'area': {'sort-name': 'United Kingdom', 'id': '8a754a16-0027-3a29-b6d7-2b40ea0481ed', 'type': None, 'iso-3166-1-codes': ['GB'], 'type-id': None, 'disambiguation': '', 'name': 'United Kingdom'}, 'life-span': {'begin': '1992-08-02', 'ended': False, 'end': None}, 'disambiguation': '', 'end_area': None, 'gender-id': '93452b5a-a947-30c8-934f-6a4056b151c2', 'gender': 'Female', 'sort-name': 'Charli XCX', 'id': '260b6184-8828-48eb-945c-bc4cb6fc34ca', 'type': 'Person', 'begin_area': {'type-id': None, 'name': 'Cambridge', 'disambiguation': '', 'id': '11ba7f4f-3fb9-4b4b-a72f-ab1cd9c37d99', 'type': None, 'sort-name': 'Cambridge'}}\n"
     ]
    },
    {
     "name": "stderr",
     "output_type": "stream",
     "text": [
      "row #64 failed: 'NoneType' object is not subscriptable\n",
      "get_artist_by_id error: {'type-id': 'e431f5f6-b5d2-343d-8b36-72607fffb74b', 'begin_area': None, 'begin-area': None, 'disambiguation': '', 'life-span': {'begin': '1999', 'ended': False, 'end': None}, 'end-area': None, 'gender-id': None, 'ipis': [], 'name': 'Vitamin String Quartet', 'country': 'US', 'end_area': None, 'id': '56cfe6aa-b464-43d2-bec7-8ec52f313e7d', 'isnis': [], 'type': 'Group', 'gender': None, 'sort-name': 'Vitamin String Quartet', 'area': {'name': 'United States', 'iso-3166-1-codes': ['US'], 'sort-name': 'United States', 'type-id': None, 'type': None, 'disambiguation': '', 'id': '489ce91b-6658-3307-9877-795b68554c98'}}\n",
      "row #65 failed: 'NoneType' object is not subscriptable\n",
      "row #0 failed: 'NoneType' object is not subscriptable\n",
      "row #1 failed: 'NoneType' object is not subscriptable\n",
      "row #2 failed: 'NoneType' object is not subscriptable\n",
      "row #3 failed: 'NoneType' object is not subscriptable\n",
      "row #4 failed: 'NoneType' object is not subscriptable\n",
      "row #5 failed: 'NoneType' object is not subscriptable\n",
      "row #6 failed: 'NoneType' object is not subscriptable\n",
      "row #7 failed: 'NoneType' object is not subscriptable\n",
      "row #8 failed: 'NoneType' object is not subscriptable\n",
      "row #9 failed: 'NoneType' object is not subscriptable\n",
      "row #10 failed: 'NoneType' object is not subscriptable\n",
      "row #11 failed: 'NoneType' object is not subscriptable\n",
      "row #12 failed: 'NoneType' object is not subscriptable\n",
      "row #13 failed: 'NoneType' object is not subscriptable\n",
      "row #14 failed: 'NoneType' object is not subscriptable\n",
      "row #15 failed: 'NoneType' object is not subscriptable\n",
      "row #16 failed: 'NoneType' object is not subscriptable\n",
      "row #17 failed: 'NoneType' object is not subscriptable\n",
      "row #18 failed: 'NoneType' object is not subscriptable\n",
      "row #19 failed: 'NoneType' object is not subscriptable\n",
      "row #20 failed: 'NoneType' object is not subscriptable\n",
      "row #21 failed: 'NoneType' object is not subscriptable\n",
      "row #22 failed: 'NoneType' object is not subscriptable\n",
      "row #23 failed: 'NoneType' object is not subscriptable\n",
      "row #24 failed: 'NoneType' object is not subscriptable\n",
      "row #25 failed: 'NoneType' object is not subscriptable\n",
      "row #26 failed: 'NoneType' object is not subscriptable\n",
      "row #27 failed: 'NoneType' object is not subscriptable\n",
      "row #28 failed: 'NoneType' object is not subscriptable\n",
      "row #29 failed: 'NoneType' object is not subscriptable\n",
      "row #30 failed: 'NoneType' object is not subscriptable\n",
      "row #31 failed: 'NoneType' object is not subscriptable\n",
      "row #32 failed: 'NoneType' object is not subscriptable\n",
      "row #33 failed: 'NoneType' object is not subscriptable\n",
      "row #34 failed: 'NoneType' object is not subscriptable\n",
      "row #35 failed: 'NoneType' object is not subscriptable\n",
      "row #36 failed: 'NoneType' object is not subscriptable\n",
      "row #37 failed: 'NoneType' object is not subscriptable\n",
      "row #38 failed: 'NoneType' object is not subscriptable\n",
      "row #39 failed: 'NoneType' object is not subscriptable\n",
      "row #40 failed: 'NoneType' object is not subscriptable\n",
      "row #41 failed: 'NoneType' object is not subscriptable\n",
      "row #42 failed: 'NoneType' object is not subscriptable\n",
      "row #43 failed: 'NoneType' object is not subscriptable\n",
      "row #44 failed: 'NoneType' object is not subscriptable\n",
      "row #45 failed: 'NoneType' object is not subscriptable\n",
      "row #46 failed: 'NoneType' object is not subscriptable\n",
      "row #47 failed: 'NoneType' object is not subscriptable\n",
      "row #48 failed: 'NoneType' object is not subscriptable\n",
      "row #49 failed: 'NoneType' object is not subscriptable\n",
      "row #50 failed: 'NoneType' object is not subscriptable\n",
      "row #51 failed: 'NoneType' object is not subscriptable\n",
      "row #52 failed: 'NoneType' object is not subscriptable\n",
      "row #53 failed: 'NoneType' object is not subscriptable\n",
      "row #54 failed: 'NoneType' object is not subscriptable\n",
      "row #55 failed: 'NoneType' object is not subscriptable\n",
      "row #56 failed: 'NoneType' object is not subscriptable\n",
      "row #57 failed: 'NoneType' object is not subscriptable\n",
      "row #58 failed: 'NoneType' object is not subscriptable\n",
      "row #59 failed: 'NoneType' object is not subscriptable\n",
      "row #60 failed: 'NoneType' object is not subscriptable\n",
      "row #61 failed: 'NoneType' object is not subscriptable\n",
      "row #62 failed: 'NoneType' object is not subscriptable\n",
      "row #63 failed: 'NoneType' object is not subscriptable\n",
      "row #64 failed: 'NoneType' object is not subscriptable\n",
      "row #65 failed: 'NoneType' object is not subscriptable\n"
     ]
    },
    {
     "name": "stdout",
     "output_type": "stream",
     "text": [
      "processed 66 artists in 10.43 seconds and saved csv\n",
      "66 artists to retry\n",
      "processed 66 artists in 0.05 seconds and saved csv\n",
      "we will attempt to get place full names for 0 place IDs\n",
      "finished getting place full names from place IDs in 0.00 seconds\n"
     ]
    },
    {
     "name": "stderr",
     "output_type": "stream",
     "text": [
      "/opt/anaconda3/lib/python3.7/site-packages/pandas/core/frame.py:4223: SettingWithCopyWarning: \n",
      "A value is trying to be set on a copy of a slice from a DataFrame\n",
      "\n",
      "See the caveats in the documentation: http://pandas.pydata.org/pandas-docs/stable/user_guide/indexing.html#returning-a-view-versus-a-copy\n",
      "  return super().rename(**kwargs)\n"
     ]
    }
   ],
   "source": [
    "all_data = find_all_locations(df_mbid)"
   ]
  },
  {
   "cell_type": "code",
   "execution_count": 24,
   "metadata": {},
   "outputs": [],
   "source": [
    "all_data.to_csv(\"data/raw_data/music_with_places_20210807.csv\", index = False)"
   ]
  },
  {
   "cell_type": "markdown",
   "metadata": {},
   "source": [
    "<br>"
   ]
  },
  {
   "cell_type": "markdown",
   "metadata": {},
   "source": [
    "# Get lat/lon coordinates"
   ]
  },
  {
   "cell_type": "code",
   "execution_count": 25,
   "metadata": {},
   "outputs": [
    {
     "name": "stdout",
     "output_type": "stream",
     "text": [
      "100 total artists\n",
      "0 unique places\n",
      "geocoded 0 addresses in 0.00 seconds\n",
      "received 0 non-null lat-longs\n",
      "0 addresses still lack lat-long\n",
      "geocoded 0 addresses in 0.00 seconds\n",
      "received 0 non-null lat-longs\n"
     ]
    }
   ],
   "source": [
    "music_with_lat_lon = get_all_latlons_for_music(all_data, ignore_country_if_more_detail = False)"
   ]
  },
  {
   "cell_type": "code",
   "execution_count": 26,
   "metadata": {},
   "outputs": [],
   "source": [
    "music_with_lat_lon.to_csv(\"data/raw_data/music_with_places_latlon_20210807.csv\", index = False)"
   ]
  },
  {
   "cell_type": "markdown",
   "metadata": {},
   "source": [
    "<br>"
   ]
  },
  {
   "cell_type": "markdown",
   "metadata": {},
   "source": [
    "# Get info from Spotify"
   ]
  },
  {
   "cell_type": "code",
   "execution_count": 36,
   "metadata": {},
   "outputs": [],
   "source": [
    "spotify_data = get_spotipy_id(music_with_lat_lon, cid = cid, secret = secret)\n",
    "spotify_data = spotify_data.drop_duplicates([\"artist\", \"track\"])"
   ]
  },
  {
   "cell_type": "code",
   "execution_count": 37,
   "metadata": {},
   "outputs": [],
   "source": [
    "spotify_data_info = get_spotify_data(spotify_data, batchsize_value = 100,  cid = cid, secret = secret)"
   ]
  },
  {
   "cell_type": "code",
   "execution_count": 38,
   "metadata": {},
   "outputs": [],
   "source": [
    "spotify_info = pd.merge(spotify_data, spotify_data_info, on = \"track_id\", how = \"left\", validate = \"one_to_one\" )"
   ]
  },
  {
   "cell_type": "code",
   "execution_count": 39,
   "metadata": {},
   "outputs": [],
   "source": [
    "spotify_info = spotify_info[['artist', 'track', 'popularity', 'acousticness', 'danceability', 'duration_ms', \n",
    "                             'energy','instrumentalness', 'liveness','loudness','mode','speechiness','tempo',\n",
    "                             'time_signature', 'valence']]"
   ]
  },
  {
   "cell_type": "code",
   "execution_count": 40,
   "metadata": {},
   "outputs": [],
   "source": [
    "music_with_all_features = pd.merge(music_with_lat_lon, spotify_info, on = [\"artist\", \"track\"], how = \"left\", validate = \"many_to_one\" )\n"
   ]
  },
  {
   "cell_type": "code",
   "execution_count": 41,
   "metadata": {},
   "outputs": [],
   "source": [
    "music_with_all_features.to_csv(\"data/raw_data/music_with_all_features_20210807.csv\", index = False)"
   ]
  },
  {
   "cell_type": "code",
   "execution_count": null,
   "metadata": {},
   "outputs": [],
   "source": []
  },
  {
   "cell_type": "code",
   "execution_count": null,
   "metadata": {},
   "outputs": [],
   "source": []
  }
 ],
 "metadata": {
  "kernelspec": {
   "display_name": "Python 3",
   "language": "python",
   "name": "python3"
  },
  "language_info": {
   "codemirror_mode": {
    "name": "ipython",
    "version": 3
   },
   "file_extension": ".py",
   "mimetype": "text/x-python",
   "name": "python",
   "nbconvert_exporter": "python",
   "pygments_lexer": "ipython3",
   "version": "3.7.4"
  }
 },
 "nbformat": 4,
 "nbformat_minor": 2
}
