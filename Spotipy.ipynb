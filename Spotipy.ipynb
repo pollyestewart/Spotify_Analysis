{
 "cells": [
  {
   "cell_type": "code",
   "execution_count": 1,
   "metadata": {},
   "outputs": [],
   "source": [
    "import sys\n",
    "import spotipy\n",
    "import spotipy.util as util\n",
    "import json\n",
    "import requests\n",
    "from furl import furl\n",
    "from math import ceil\n",
    "from spotipy.oauth2 import SpotifyClientCredentials\n",
    "\n",
    "# to save some typing\n",
    "import pandas as pd\n",
    "import matplotlib\n",
    "\n",
    "# to display plots in the notebook\n",
    "%matplotlib inline\n",
    "import matplotlib.pyplot as plt"
   ]
  },
  {
   "cell_type": "code",
   "execution_count": 2,
   "metadata": {},
   "outputs": [],
   "source": [
    "cid =\"3fc91dc129ff4936beb0411d23003200\" \n",
    "secret = \"baa0c78d715f4497a8baedd3677516db\"\n",
    "\n",
    "client_credentials_manager = SpotifyClientCredentials(client_id=cid, client_secret=secret)\n",
    "sp = spotipy.Spotify(client_credentials_manager=client_credentials_manager)"
   ]
  },
  {
   "cell_type": "code",
   "execution_count": 3,
   "metadata": {},
   "outputs": [],
   "source": [
    "artist_name = []\n",
    "track_name = []\n",
    "track_id = []\n",
    "popularity = []\n",
    "\n",
    "for i in range(0,10000,50):\n",
    "\n",
    "    track_results = sp.search(q='year:2019', type='track', limit=50,offset=i)\n",
    "    for i, t in enumerate(track_results['tracks']['items']):\n",
    "        artist_name.append(t['artists'][0]['name'])\n",
    "        track_name.append(t['name'])\n",
    "        track_id.append(t['id'])\n",
    "        popularity.append(t['popularity'])"
   ]
  },
  {
   "cell_type": "code",
   "execution_count": 4,
   "metadata": {},
   "outputs": [],
   "source": [
    "df = pd.DataFrame()\n",
    "\n",
    "df['artist_name'] = artist_name\n",
    "df['track_name'] = track_name\n",
    "df['track_id'] = track_id\n",
    "df['popularity'] = popularity\n"
   ]
  },
  {
   "cell_type": "code",
   "execution_count": 31,
   "metadata": {},
   "outputs": [
    {
     "name": "stdout",
     "output_type": "stream",
     "text": [
      "<class 'pandas.core.frame.DataFrame'>\n",
      "RangeIndex: 10000 entries, 0 to 9999\n",
      "Data columns (total 4 columns):\n",
      "artist_name    10000 non-null object\n",
      "track_name     10000 non-null object\n",
      "track_id       10000 non-null object\n",
      "popularity     10000 non-null int64\n",
      "dtypes: int64(1), object(3)\n",
      "memory usage: 312.6+ KB\n"
     ]
    }
   ],
   "source": [
    "df.info()"
   ]
  },
  {
   "cell_type": "code",
   "execution_count": 27,
   "metadata": {},
   "outputs": [],
   "source": [
    "df_tracks = df.copy()\n",
    "batchsize = 100"
   ]
  },
  {
   "cell_type": "code",
   "execution_count": 30,
   "metadata": {},
   "outputs": [],
   "source": [
    "rows = []\n",
    "None_counter = 0\n",
    "for i in range(0,len(df_tracks['track_id']),batchsize):\n",
    "    batch = df_tracks['track_id'][i:i+batchsize]\n",
    "    feature_results = sp.audio_features(batch)\n",
    "    for i, t in enumerate(feature_results):\n",
    "        if t == None:\n",
    "            None_counter = None_counter + 1\n",
    "        else:\n",
    "            rows.append(t)"
   ]
  },
  {
   "cell_type": "code",
   "execution_count": 40,
   "metadata": {},
   "outputs": [],
   "source": [
    "df_tracks = pd.DataFrame(rows)\n",
    "df_tracks = df_tracks.rename(columns={\"id\": \"track_id\"})"
   ]
  },
  {
   "cell_type": "code",
   "execution_count": 42,
   "metadata": {},
   "outputs": [],
   "source": [
    "df_all = pd.merge(df, df_tracks, on = \"track_id\", how = \"left\", validate = \"one_to_one\" )"
   ]
  },
  {
   "cell_type": "code",
   "execution_count": 44,
   "metadata": {},
   "outputs": [
    {
     "name": "stdout",
     "output_type": "stream",
     "text": [
      "<class 'pandas.core.frame.DataFrame'>\n",
      "Int64Index: 10000 entries, 0 to 9999\n",
      "Data columns (total 21 columns):\n",
      "artist_name         10000 non-null object\n",
      "track_name          10000 non-null object\n",
      "track_id            10000 non-null object\n",
      "popularity          10000 non-null int64\n",
      "acousticness        9905 non-null float64\n",
      "analysis_url        9905 non-null object\n",
      "danceability        9905 non-null float64\n",
      "duration_ms         9905 non-null float64\n",
      "energy              9905 non-null float64\n",
      "instrumentalness    9905 non-null float64\n",
      "key                 9905 non-null float64\n",
      "liveness            9905 non-null float64\n",
      "loudness            9905 non-null float64\n",
      "mode                9905 non-null float64\n",
      "speechiness         9905 non-null float64\n",
      "tempo               9905 non-null float64\n",
      "time_signature      9905 non-null float64\n",
      "track_href          9905 non-null object\n",
      "type                9905 non-null object\n",
      "uri                 9905 non-null object\n",
      "valence             9905 non-null float64\n",
      "dtypes: float64(13), int64(1), object(7)\n",
      "memory usage: 1.7+ MB\n"
     ]
    }
   ],
   "source": [
    "df_all.info()"
   ]
  },
  {
   "cell_type": "code",
   "execution_count": null,
   "metadata": {},
   "outputs": [],
   "source": []
  }
 ],
 "metadata": {
  "kernelspec": {
   "display_name": "Python 3",
   "language": "python",
   "name": "python3"
  },
  "language_info": {
   "codemirror_mode": {
    "name": "ipython",
    "version": 3
   },
   "file_extension": ".py",
   "mimetype": "text/x-python",
   "name": "python",
   "nbconvert_exporter": "python",
   "pygments_lexer": "ipython3",
   "version": "3.7.3"
  }
 },
 "nbformat": 4,
 "nbformat_minor": 2
}
