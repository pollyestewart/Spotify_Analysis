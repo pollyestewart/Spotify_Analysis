{
 "cells": [
  {
   "cell_type": "markdown",
   "metadata": {},
   "source": [
    "# Prep script"
   ]
  },
  {
   "cell_type": "code",
   "execution_count": 1,
   "metadata": {},
   "outputs": [],
   "source": [
    "import time\n",
    "import pylast\n",
    "import hashlib\n",
    "from datetime import date\n",
    "from datetime import datetime\n",
    "import requests\n",
    "import pandas as pd, requests, time, json, os.path\n",
    "import logging as lg, datetime as dt\n",
    "import pandas as pd, numpy as np, matplotlib.pyplot as plt, logging as lg\n",
    "import time, requests, re, json, os.path, datetime as dt\n",
    "from geopy.distance import great_circle\n",
    "import mpl_toolkits\n",
    "import sys\n",
    "import os\n",
    "import spotipy\n",
    "from spotipy.oauth2 import SpotifyClientCredentials"
   ]
  },
  {
   "cell_type": "code",
   "execution_count": 2,
   "metadata": {},
   "outputs": [],
   "source": [
    "%run all_recently_played_music.py\n",
    "%run get_locations.py\n",
    "%run geocode_locations.py"
   ]
  },
  {
   "cell_type": "markdown",
   "metadata": {},
   "source": [
    "<br>"
   ]
  },
  {
   "cell_type": "markdown",
   "metadata": {},
   "source": [
    "# Set-up API call information"
   ]
  },
  {
   "cell_type": "markdown",
   "metadata": {},
   "source": [
    "### Last.FM"
   ]
  },
  {
   "cell_type": "code",
   "execution_count": 3,
   "metadata": {},
   "outputs": [],
   "source": [
    "# Enter your user details\n",
    "user_name = 'pollystewart'\n",
    "user_password = '77ebJ!134'\n",
    "api_key = '040075c038c9f0e9200581b60723f860'\n",
    "api_secret = '994d7d88b34019cb9c337fe179ac0f67'\n",
    "\n",
    "# set-up hash / API call\n",
    "password_hash = pylast.md5(user_password)\n",
    "network = pylast.LastFMNetwork(api_key = api_key, api_secret =  api_secret, username = user_name, password_hash = password_hash)\n",
    "user = pylast.User(user_name, network)"
   ]
  },
  {
   "cell_type": "markdown",
   "metadata": {},
   "source": [
    "### Spotify"
   ]
  },
  {
   "cell_type": "code",
   "execution_count": 4,
   "metadata": {},
   "outputs": [],
   "source": [
    "cid =\"3fc91dc129ff4936beb0411d23003200\" \n",
    "secret = \"baa0c78d715f4497a8baedd3677516db\"\n",
    "sp = spotipy.Spotify()"
   ]
  },
  {
   "cell_type": "markdown",
   "metadata": {},
   "source": [
    "<br>"
   ]
  },
  {
   "cell_type": "markdown",
   "metadata": {},
   "source": [
    "# Final things to do"
   ]
  },
  {
   "cell_type": "markdown",
   "metadata": {},
   "source": [
    " - Create a folder where this notebook is saved called 'raw_data' to save checkpoints\n",
    " - Create a folder where this notebook is saved called 'geocode' to save all geocode-related caches/jsons\n",
    " - Create a folder where this notebook is saved called 'place_Data' to save all geocode-related data files"
   ]
  },
  {
   "cell_type": "markdown",
   "metadata": {},
   "source": [
    "<br>"
   ]
  },
  {
   "cell_type": "markdown",
   "metadata": {},
   "source": [
    "# Get all music played"
   ]
  },
  {
   "cell_type": "code",
   "execution_count": 8,
   "metadata": {},
   "outputs": [],
   "source": [
    "# just gets latest 5 as a check\n",
    "recent_tracks = user.get_recent_tracks(limit = 5, cacheable=True)"
   ]
  },
  {
   "cell_type": "code",
   "execution_count": 9,
   "metadata": {},
   "outputs": [
    {
     "data": {
      "text/html": [
       "<div>\n",
       "<style scoped>\n",
       "    .dataframe tbody tr th:only-of-type {\n",
       "        vertical-align: middle;\n",
       "    }\n",
       "\n",
       "    .dataframe tbody tr th {\n",
       "        vertical-align: top;\n",
       "    }\n",
       "\n",
       "    .dataframe thead th {\n",
       "        text-align: right;\n",
       "    }\n",
       "</style>\n",
       "<table border=\"1\" class=\"dataframe\">\n",
       "  <thead>\n",
       "    <tr style=\"text-align: right;\">\n",
       "      <th></th>\n",
       "      <th>artist</th>\n",
       "      <th>track</th>\n",
       "      <th>album</th>\n",
       "      <th>timestamp</th>\n",
       "      <th>track_duration</th>\n",
       "      <th>listener_count</th>\n",
       "      <th>playcount</th>\n",
       "    </tr>\n",
       "  </thead>\n",
       "  <tbody>\n",
       "    <tr>\n",
       "      <th>0</th>\n",
       "      <td>Catfish and the Bottlemen</td>\n",
       "      <td>Fluctuate</td>\n",
       "      <td>Fluctuate</td>\n",
       "      <td>2019-11-20 11:34:23</td>\n",
       "      <td>0</td>\n",
       "      <td>29000</td>\n",
       "      <td>172060</td>\n",
       "    </tr>\n",
       "    <tr>\n",
       "      <th>1</th>\n",
       "      <td>Adele</td>\n",
       "      <td>Rumour Has It</td>\n",
       "      <td>21</td>\n",
       "      <td>2019-11-20 11:30:35</td>\n",
       "      <td>223000</td>\n",
       "      <td>646867</td>\n",
       "      <td>5038503</td>\n",
       "    </tr>\n",
       "    <tr>\n",
       "      <th>2</th>\n",
       "      <td>Yeah Yeah Yeahs</td>\n",
       "      <td>Heads Will Roll (A-Trak Remix)</td>\n",
       "      <td>Heads Will Roll (A-trak Remix)</td>\n",
       "      <td>2019-11-20 11:24:11</td>\n",
       "      <td>383000</td>\n",
       "      <td>217777</td>\n",
       "      <td>1280431</td>\n",
       "    </tr>\n",
       "    <tr>\n",
       "      <th>3</th>\n",
       "      <td>Ke$ha</td>\n",
       "      <td>Die Young</td>\n",
       "      <td>Warrior (Deluxe Version)</td>\n",
       "      <td>2019-11-20 11:20:54</td>\n",
       "      <td>213000</td>\n",
       "      <td>408202</td>\n",
       "      <td>4871835</td>\n",
       "    </tr>\n",
       "  </tbody>\n",
       "</table>\n",
       "</div>"
      ],
      "text/plain": [
       "                      artist                           track  \\\n",
       "0  Catfish and the Bottlemen                       Fluctuate   \n",
       "1                      Adele                   Rumour Has It   \n",
       "2            Yeah Yeah Yeahs  Heads Will Roll (A-Trak Remix)   \n",
       "3                      Ke$ha                       Die Young   \n",
       "\n",
       "                            album           timestamp  track_duration  \\\n",
       "0                       Fluctuate 2019-11-20 11:34:23               0   \n",
       "1                              21 2019-11-20 11:30:35          223000   \n",
       "2  Heads Will Roll (A-trak Remix) 2019-11-20 11:24:11          383000   \n",
       "3        Warrior (Deluxe Version) 2019-11-20 11:20:54          213000   \n",
       "\n",
       "   listener_count  playcount  \n",
       "0           29000     172060  \n",
       "1          646867    5038503  \n",
       "2          217777    1280431  \n",
       "3          408202    4871835  "
      ]
     },
     "execution_count": 9,
     "metadata": {},
     "output_type": "execute_result"
    }
   ],
   "source": [
    "tracks = get_all_recent_tracks(user = user, network = network, limit_value = None)\n",
    "tracks.head()"
   ]
  },
  {
   "cell_type": "code",
   "execution_count": 10,
   "metadata": {},
   "outputs": [],
   "source": [
    "tracks_w_tags = get_all_tags(tracks, network)"
   ]
  },
  {
   "cell_type": "code",
   "execution_count": 8,
   "metadata": {},
   "outputs": [],
   "source": [
    "#tracks_w_tags.to_csv('raw_data/music_with_tags_20193110.csv', index = False)"
   ]
  },
  {
   "cell_type": "markdown",
   "metadata": {},
   "source": [
    "<br>"
   ]
  },
  {
   "cell_type": "markdown",
   "metadata": {},
   "source": [
    "# Get MBID of all artists/tracks/albums"
   ]
  },
  {
   "cell_type": "code",
   "execution_count": 9,
   "metadata": {},
   "outputs": [],
   "source": [
    "df_mbid = get_mbid_of_all_rows(tracks_w_tags, network)"
   ]
  },
  {
   "cell_type": "code",
   "execution_count": 10,
   "metadata": {},
   "outputs": [],
   "source": [
    "#df_mbid.to_csv('raw_data/music_with_mbid_20193110.csv', index = False)"
   ]
  },
  {
   "cell_type": "markdown",
   "metadata": {},
   "source": [
    "<br>"
   ]
  },
  {
   "cell_type": "markdown",
   "metadata": {},
   "source": [
    "# Get Locations & MusicBrainz Info"
   ]
  },
  {
   "cell_type": "code",
   "execution_count": 11,
   "metadata": {},
   "outputs": [
    {
     "name": "stdout",
     "output_type": "stream",
     "text": [
      "there are 187 unique artists to get details for\n",
      "processed 187 artists in 83.8 seconds and saved csv\n",
      "0 artists to retry\n",
      "processed 0 artists in 0.0 seconds and saved csv\n",
      "we will attempt to get place full names for 112 place IDs\n",
      "finished getting place full names from place IDs in 77.33 seconds\n"
     ]
    },
    {
     "name": "stderr",
     "output_type": "stream",
     "text": [
      "/usr/local/anaconda3/lib/python3.7/site-packages/pandas/core/frame.py:4025: SettingWithCopyWarning: \n",
      "A value is trying to be set on a copy of a slice from a DataFrame\n",
      "\n",
      "See the caveats in the documentation: http://pandas.pydata.org/pandas-docs/stable/indexing.html#indexing-view-versus-copy\n",
      "  return super(DataFrame, self).rename(**kwargs)\n"
     ]
    }
   ],
   "source": [
    "all_data = find_all_locations(df_mbid)"
   ]
  },
  {
   "cell_type": "code",
   "execution_count": 12,
   "metadata": {},
   "outputs": [],
   "source": [
    "#all_data.to_csv(\"raw_data/music_with_places_20193110.csv\", index = False)"
   ]
  },
  {
   "cell_type": "markdown",
   "metadata": {},
   "source": [
    "<br>"
   ]
  },
  {
   "cell_type": "markdown",
   "metadata": {},
   "source": [
    "# Get lat/lon coordinates"
   ]
  },
  {
   "cell_type": "code",
   "execution_count": 13,
   "metadata": {},
   "outputs": [
    {
     "name": "stdout",
     "output_type": "stream",
     "text": [
      "437 total artists\n",
      "111 unique places\n",
      "geocoded 111 addresses in 221.00 seconds\n",
      "received 108 non-null lat-longs\n",
      "3 addresses still lack lat-long\n",
      "geocoded 3 addresses in 0.00 seconds\n",
      "received 108 non-null lat-longs\n"
     ]
    }
   ],
   "source": [
    "music_with_lat_lon = get_all_latlons_for_music(all_data, ignore_country_if_more_detail = False)"
   ]
  },
  {
   "cell_type": "code",
   "execution_count": 14,
   "metadata": {},
   "outputs": [],
   "source": [
    "#music_with_lat_lon.to_csv(\"raw_data/music_with_places_latlon_20193110.csv\", index = False)"
   ]
  },
  {
   "cell_type": "markdown",
   "metadata": {},
   "source": [
    "<br>"
   ]
  },
  {
   "cell_type": "markdown",
   "metadata": {},
   "source": [
    "# Get info from Spotify"
   ]
  },
  {
   "cell_type": "code",
   "execution_count": 15,
   "metadata": {},
   "outputs": [
    {
     "name": "stdout",
     "output_type": "stream",
     "text": [
      "retrying ...1secs\n"
     ]
    }
   ],
   "source": [
    "spotify_data = get_spotipy_id(music_with_lat_lon, sp = sp, cid = cid, secret = secret)\n",
    "spotify_data = spotify_data.drop_duplicates([\"artist\", \"track\"])"
   ]
  },
  {
   "cell_type": "code",
   "execution_count": 16,
   "metadata": {},
   "outputs": [],
   "source": [
    "spotify_data_info = get_spotify_data(spotify_data, batchsize_value = 100,  cid = cid, secret = secret)"
   ]
  },
  {
   "cell_type": "code",
   "execution_count": 17,
   "metadata": {},
   "outputs": [],
   "source": [
    "spotify_info = pd.merge(spotify_data, spotify_data_info, on = \"track_id\", how = \"left\", validate = \"one_to_one\" )"
   ]
  },
  {
   "cell_type": "code",
   "execution_count": 18,
   "metadata": {},
   "outputs": [],
   "source": [
    "spotify_info = spotify_info[['artist', 'track', 'popularity', 'acousticness', 'danceability', 'duration_ms', \n",
    "                             'energy','instrumentalness', 'liveness','loudness','mode','speechiness','tempo',\n",
    "                             'time_signature', 'valence']]"
   ]
  },
  {
   "cell_type": "code",
   "execution_count": 19,
   "metadata": {},
   "outputs": [],
   "source": [
    "music_with_all_features = pd.merge(music_with_lat_lon, spotify_info, on = [\"artist\", \"track\"], how = \"left\", validate = \"many_to_one\" )\n"
   ]
  },
  {
   "cell_type": "code",
   "execution_count": 20,
   "metadata": {},
   "outputs": [],
   "source": [
    "#music_with_all_features.to_csv(\"raw_data/music_with_all_features_20193110.csv\", index = False)"
   ]
  },
  {
   "cell_type": "code",
   "execution_count": null,
   "metadata": {},
   "outputs": [],
   "source": []
  }
 ],
 "metadata": {
  "kernelspec": {
   "display_name": "Python 3",
   "language": "python",
   "name": "python3"
  },
  "language_info": {
   "codemirror_mode": {
    "name": "ipython",
    "version": 3
   },
   "file_extension": ".py",
   "mimetype": "text/x-python",
   "name": "python",
   "nbconvert_exporter": "python",
   "pygments_lexer": "ipython3",
   "version": "3.7.3"
  }
 },
 "nbformat": 4,
 "nbformat_minor": 2
}
